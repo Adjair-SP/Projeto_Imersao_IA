{
  "nbformat": 4,
  "nbformat_minor": 0,
  "metadata": {
    "colab": {
      "provenance": [],
      "authorship_tag": "ABX9TyPFDC5vvHvup+rYktaPggnc",
      "include_colab_link": true
    },
    "kernelspec": {
      "name": "python3",
      "display_name": "Python 3"
    },
    "language_info": {
      "name": "python"
    }
  },
  "cells": [
    {
      "cell_type": "markdown",
      "metadata": {
        "id": "view-in-github",
        "colab_type": "text"
      },
      "source": [
        "<a href=\"https://colab.research.google.com/github/Adjair-SP/Projeto_Imersao_IA/blob/main/Imers%C3%A3o_IA_Alura_Google.ipynb\" target=\"_parent\"><img src=\"https://colab.research.google.com/assets/colab-badge.svg\" alt=\"Open In Colab\"/></a>"
      ]
    },
    {
      "cell_type": "markdown",
      "source": [
        "Instalando o SDK do Google"
      ],
      "metadata": {
        "id": "HIxWGcVE5CeO"
      }
    },
    {
      "cell_type": "code",
      "execution_count": 42,
      "metadata": {
        "id": "xOVhhHdo2Rj8"
      },
      "outputs": [],
      "source": [
        "!pip install -q -U google-generativeai"
      ]
    },
    {
      "cell_type": "code",
      "source": [
        "import google.generativeai as genai\n",
        "from google.colab import userdata\n",
        "\n",
        "api_key = userdata.get('SECRET_KEY')\n",
        "\n",
        "\n",
        "genai.configure(api_key=api_key)"
      ],
      "metadata": {
        "id": "tl7K6cIr5QEm"
      },
      "execution_count": 43,
      "outputs": []
    },
    {
      "cell_type": "markdown",
      "source": [
        "Listar os modelos disponíveis"
      ],
      "metadata": {
        "id": "lnS7qI_25uvd"
      }
    },
    {
      "cell_type": "code",
      "source": [
        "for m in genai.list_models():\n",
        "  if 'generateContent' in m.supported_generation_methods:\n",
        "    print(m.name)"
      ],
      "metadata": {
        "colab": {
          "base_uri": "https://localhost:8080/",
          "height": 136
        },
        "id": "VI20w4I9530d",
        "outputId": "f773bf85-2c34-4e57-b0a8-590b0a27ab32"
      },
      "execution_count": 44,
      "outputs": [
        {
          "output_type": "stream",
          "name": "stdout",
          "text": [
            "models/gemini-1.0-pro\n",
            "models/gemini-1.0-pro-001\n",
            "models/gemini-1.0-pro-latest\n",
            "models/gemini-1.0-pro-vision-latest\n",
            "models/gemini-1.5-pro-latest\n",
            "models/gemini-pro\n",
            "models/gemini-pro-vision\n"
          ]
        }
      ]
    },
    {
      "cell_type": "code",
      "source": [
        "generation_config = {\n",
        "    \"candidate_count\": 1,\n",
        "    \"temperature\": 0.5,\n",
        "}"
      ],
      "metadata": {
        "id": "UR2CGIjD6mR-"
      },
      "execution_count": 45,
      "outputs": []
    },
    {
      "cell_type": "code",
      "source": [
        "safety_settings = {\n",
        "    \"HARASSMENT\": \"BLOCK_NONE\",\n",
        "    \"HATE\": \"BLOCK_NONE\",\n",
        "    \"SEXUAL\": \"BLOCK_NONE\",\n",
        "    \"DANGEROUS\": \"BLOCK_NONE\"\n",
        "}"
      ],
      "metadata": {
        "id": "6ESsC_cJ89TR"
      },
      "execution_count": 46,
      "outputs": []
    },
    {
      "cell_type": "markdown",
      "source": [
        "Inicializando o modelo"
      ],
      "metadata": {
        "id": "Yb6hJnNF-BMX"
      }
    },
    {
      "cell_type": "code",
      "source": [
        "model = genai.GenerativeModel(model_name='gemini-1.0-pro',\n",
        "                              generation_config=generation_config,\n",
        "                              safety_settings=safety_settings)"
      ],
      "metadata": {
        "id": "aRHEynlm-Ffh"
      },
      "execution_count": 47,
      "outputs": []
    },
    {
      "cell_type": "code",
      "source": [
        "response = model.generate_content(\"Vamos aprender sobre Israel. Me dê sugestões.\")\n",
        "print(response.text)"
      ],
      "metadata": {
        "colab": {
          "base_uri": "https://localhost:8080/",
          "height": 666
        },
        "id": "Erg2QXdy_BvD",
        "outputId": "771698b6-1ddb-43e6-aa4d-0be964384a3f"
      },
      "execution_count": 48,
      "outputs": [
        {
          "output_type": "stream",
          "name": "stdout",
          "text": [
            "**História e Cultura**\n",
            "\n",
            "* Visite a Cidade Velha de Jerusalém, um Patrimônio Mundial da UNESCO com locais sagrados para judeus, cristãos e muçulmanos.\n",
            "* Explore o Muro das Lamentações, o local mais sagrado do judaísmo.\n",
            "* Aprenda sobre a história do Holocausto no Museu Yad Vashem.\n",
            "* Visite o Museu de Israel, que abriga o Santuário do Livro, onde estão guardados os Manuscritos do Mar Morto.\n",
            "* Descubra a cultura beduína no deserto de Negev.\n",
            "\n",
            "**Natureza e Aventura**\n",
            "\n",
            "* Caminhe pelo Mar da Galiléia, onde Jesus supostamente andou sobre as águas.\n",
            "* Suba o Monte Tabor, um local bíblico com vistas panorâmicas.\n",
            "* Nade no Mar Morto, o ponto mais baixo da Terra.\n",
            "* Explore o Parque Nacional de Ein Gedi, um oásis no deserto com cachoeiras e vida selvagem.\n",
            "* Faça um passeio de camelo pelo deserto de Arava.\n",
            "\n",
            "**Tecnologia e Inovação**\n",
            "\n",
            "* Visite o Vale do Silício de Israel, um centro global de pesquisa e desenvolvimento.\n",
            "* Conheça startups e empresas de tecnologia de ponta em Tel Aviv.\n",
            "* Explore o Instituto Weizmann de Ciência, um centro de pesquisa científica de renome mundial.\n",
            "* Aprenda sobre as tecnologias de ponta de Israel no Museu da Ciência de Jerusalém.\n",
            "\n",
            "**Culinária e Vida Noturna**\n",
            "\n",
            "* Experimente a culinária israelense, uma fusão de sabores do Oriente Médio, Mediterrâneo e Europeu.\n",
            "* Visite o Mercado Mahane Yehuda em Jerusalém, um mercado vibrante com comida de rua e produtos frescos.\n",
            "* Desfrute da vida noturna agitada de Tel Aviv, com bares, clubes e restaurantes.\n",
            "* Prove os vinhos israelenses em uma das muitas vinícolas do país.\n",
            "\n",
            "**Dicas de Viagem**\n",
            "\n",
            "* O melhor momento para visitar Israel é durante a primavera (março-maio) ou o outono (setembro-novembro).\n",
            "* Aprenda algumas frases básicas em hebraico, como \"shalom\" (olá) e \"toda raba\" (obrigado).\n",
            "* Vista-se com modéstia ao visitar locais religiosos.\n",
            "* Esteja preparado para medidas de segurança rígidas em aeroportos e outros locais públicos.\n",
            "* Respeite as tradições e costumes locais.\n"
          ]
        }
      ]
    },
    {
      "cell_type": "code",
      "source": [
        "chat = model.start_chat(history=[])"
      ],
      "metadata": {
        "id": "nIOUmr3W_lVi"
      },
      "execution_count": 49,
      "outputs": []
    },
    {
      "cell_type": "code",
      "source": [
        "prompt = input(\"Esperando prompt: \")\n",
        "\n",
        "while prompt != \"fim\":\n",
        "  response = chat.send_message(prompt)\n",
        "  print(\"Resposta: \", response.text, \"\\n\")\n",
        "  prompt = input(\"Esperando prompt: \")"
      ],
      "metadata": {
        "colab": {
          "base_uri": "https://localhost:8080/",
          "height": 187
        },
        "id": "ADjXXLaFANjp",
        "outputId": "c5386e94-504e-4ee1-a7d4-c54927ffc3b2"
      },
      "execution_count": 50,
      "outputs": [
        {
          "name": "stdout",
          "output_type": "stream",
          "text": [
            "Esperando prompt: Quem descobriu o Brasil?\n",
            "Resposta:  Pedro Álvares Cabral \n",
            "\n",
            "Esperando prompt: Quando?\n",
            "Resposta:  22 de abril de 1500 \n",
            "\n",
            "Esperando prompt: Qual a nacionalidade dele?\n",
            "Resposta:  Portuguesa \n",
            "\n",
            "Esperando prompt: fim\n"
          ]
        }
      ]
    },
    {
      "cell_type": "markdown",
      "source": [
        "Nova visualização"
      ],
      "metadata": {
        "id": "8NPrHm2LCElX"
      }
    },
    {
      "cell_type": "code",
      "source": [
        "# Melhorando a visualização\n",
        "# Código dispoível em https://ai.google.dev/tutorials/python_quickstar#import_packages\n",
        "import textwrap\n",
        "from IPython.display import display\n",
        "from IPython.display import Markdown\n",
        "\n",
        "def to_markdown(text):\n",
        "  text = text.replace('•', '  *')\n",
        "  return Markdown(textwrap.indent(text, '> ', predicate=lambda _: True))\n",
        "\n",
        "#Imprimindo o histórico\n",
        "for message in chat.history:\n",
        "  display(to_markdown(f'**{message.role}**: {message.parts[0].text}'))\n",
        "  print('---------------------------------------------------')"
      ],
      "metadata": {
        "colab": {
          "base_uri": "https://localhost:8080/",
          "height": 389
        },
        "id": "Xut27rYSCIft",
        "outputId": "eda7fb64-3c0f-4f0b-edcf-62318355312b"
      },
      "execution_count": 51,
      "outputs": [
        {
          "output_type": "display_data",
          "data": {
            "text/plain": [
              "<IPython.core.display.Markdown object>"
            ],
            "text/markdown": "> **user**: Quem descobriu o Brasil?"
          },
          "metadata": {}
        },
        {
          "output_type": "stream",
          "name": "stdout",
          "text": [
            "---------------------------------------------------\n"
          ]
        },
        {
          "output_type": "display_data",
          "data": {
            "text/plain": [
              "<IPython.core.display.Markdown object>"
            ],
            "text/markdown": "> **model**: Pedro Álvares Cabral"
          },
          "metadata": {}
        },
        {
          "output_type": "stream",
          "name": "stdout",
          "text": [
            "---------------------------------------------------\n"
          ]
        },
        {
          "output_type": "display_data",
          "data": {
            "text/plain": [
              "<IPython.core.display.Markdown object>"
            ],
            "text/markdown": "> **user**: Quando?"
          },
          "metadata": {}
        },
        {
          "output_type": "stream",
          "name": "stdout",
          "text": [
            "---------------------------------------------------\n"
          ]
        },
        {
          "output_type": "display_data",
          "data": {
            "text/plain": [
              "<IPython.core.display.Markdown object>"
            ],
            "text/markdown": "> **model**: 22 de abril de 1500"
          },
          "metadata": {}
        },
        {
          "output_type": "stream",
          "name": "stdout",
          "text": [
            "---------------------------------------------------\n"
          ]
        },
        {
          "output_type": "display_data",
          "data": {
            "text/plain": [
              "<IPython.core.display.Markdown object>"
            ],
            "text/markdown": "> **user**: Qual a nacionalidade dele?"
          },
          "metadata": {}
        },
        {
          "output_type": "stream",
          "name": "stdout",
          "text": [
            "---------------------------------------------------\n"
          ]
        },
        {
          "output_type": "display_data",
          "data": {
            "text/plain": [
              "<IPython.core.display.Markdown object>"
            ],
            "text/markdown": "> **model**: Portuguesa"
          },
          "metadata": {}
        },
        {
          "output_type": "stream",
          "name": "stdout",
          "text": [
            "---------------------------------------------------\n"
          ]
        }
      ]
    }
  ]
}